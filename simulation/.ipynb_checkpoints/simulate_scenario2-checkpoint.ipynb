{
 "cells": [
  {
   "cell_type": "markdown",
   "metadata": {},
   "source": [
    "### Simulation"
   ]
  },
  {
   "cell_type": "code",
   "execution_count": 4,
   "metadata": {},
   "outputs": [],
   "source": [
    "import numpy as np\n",
    "import pandas as pd\n",
    "from numpy import random\n",
    "import warnings\n",
    "warnings.simplefilter(action='ignore', category=FutureWarning)\n",
    "\n",
    "# import scanpy for dimensionality reduction and plotting\n",
    "import anndata as ad\n",
    "from scanpy.api.tl import umap\n",
    "from scanpy.api.tl import tsne\n",
    "from scanpy.api.tl import diffmap\n",
    "from scanpy.api import pp"
   ]
  },
  {
   "cell_type": "code",
   "execution_count": 5,
   "metadata": {},
   "outputs": [],
   "source": [
    "from prosstt import tree\n",
    "from prosstt import simulation as sim\n",
    "from prosstt import sim_utils as sut\n",
    "from prosstt import count_model as cmod\n",
    "from prosstt import tree_utils as tu"
   ]
  },
  {
   "cell_type": "code",
   "execution_count": 6,
   "metadata": {},
   "outputs": [],
   "source": [
    "num_brpoints = 5\n",
    "top = tree.Tree.gen_random_topology(num_brpoints)\n",
    "\n",
    "branches = np.unique(np.array(top).flatten())\n",
    "num_branches = 2 * num_brpoints + 1\n",
    "time = {b: 50 for b in branches}\n",
    "modules = 5 * num_brpoints + np.random.randint(3, 20)\n",
    "G = 5000\n",
    "\n",
    "t = tree.Tree(topology=top, time=time, num_branches=num_branches,\n",
    "              G=G, branch_points=num_brpoints, modules=modules)"
   ]
  },
  {
   "cell_type": "code",
   "execution_count": 7,
   "metadata": {},
   "outputs": [],
   "source": [
    "mya = np.min([0.05, 1 / t.modules])"
   ]
  },
  {
   "cell_type": "code",
   "execution_count": 8,
   "metadata": {},
   "outputs": [
    {
     "name": "stderr",
     "output_type": "stream",
     "text": [
      "/opt/anaconda3/lib/python3.7/site-packages/scipy/stats/stats.py:3508: PearsonRConstantInputWarning: An input array is constant; the correlation coefficent is not defined.\n",
      "  warnings.warn(PearsonRConstantInputWarning())\n"
     ]
    }
   ],
   "source": [
    "uMs, Ws, Hs = sim.simulate_lineage(t, a=mya, intra_branch_tol=-1, inter_branch_tol=0)"
   ]
  },
  {
   "cell_type": "code",
   "execution_count": 9,
   "metadata": {},
   "outputs": [],
   "source": [
    "gene_scale = sut.simulate_base_gene_exp(t, uMs)\n",
    "t.add_genes(uMs, gene_scale)"
   ]
  },
  {
   "cell_type": "code",
   "execution_count": 10,
   "metadata": {},
   "outputs": [],
   "source": [
    "alpha = np.exp(random.normal(loc=np.log(0.1), scale=np.log(1), size=t.G))\n",
    "beta = np.exp(random.normal(loc=np.log(1), scale=np.log(1.5), size=t.G)) + 1"
   ]
  },
  {
   "cell_type": "code",
   "execution_count": 11,
   "metadata": {},
   "outputs": [],
   "source": [
    "states = np.array([25,75,125,175])\n",
    "state_std = [30,30,30,30]"
   ]
  },
  {
   "cell_type": "code",
   "execution_count": 12,
   "metadata": {},
   "outputs": [],
   "source": [
    "X, labs, brns, scalings = sim.sample_pseudotime_series(t, 1000, states, state_std, alpha=alpha, beta=beta)"
   ]
  }
 ],
 "metadata": {
  "kernelspec": {
   "display_name": "Python 3",
   "language": "python",
   "name": "python3"
  },
  "language_info": {
   "codemirror_mode": {
    "name": "ipython",
    "version": 3
   },
   "file_extension": ".py",
   "mimetype": "text/x-python",
   "name": "python",
   "nbconvert_exporter": "python",
   "pygments_lexer": "ipython3",
   "version": "3.7.6"
  }
 },
 "nbformat": 4,
 "nbformat_minor": 4
}
